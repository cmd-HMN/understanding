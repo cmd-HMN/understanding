{
 "cells": [
  {
   "cell_type": "markdown",
   "id": "223d3455",
   "metadata": {
    "papermill": {
     "duration": 0.005587,
     "end_time": "2025-03-03T14:57:52.930857",
     "exception": false,
     "start_time": "2025-03-03T14:57:52.925270",
     "status": "completed"
    },
    "tags": []
   },
   "source": [
    "# __Linear Regression From Scratch__"
   ]
  },
  {
   "cell_type": "code",
   "execution_count": 1,
   "id": "a0864179",
   "metadata": {
    "_cell_guid": "b1076dfc-b9ad-4769-8c92-a6c4dae69d19",
    "_uuid": "8f2839f25d086af736a60e9eeb907d3b93b6e0e5",
    "execution": {
     "iopub.execute_input": "2025-03-03T14:57:52.942612Z",
     "iopub.status.busy": "2025-03-03T14:57:52.942318Z",
     "iopub.status.idle": "2025-03-03T14:57:56.165116Z",
     "shell.execute_reply": "2025-03-03T14:57:56.164148Z"
    },
    "papermill": {
     "duration": 3.23069,
     "end_time": "2025-03-03T14:57:56.166667",
     "exception": false,
     "start_time": "2025-03-03T14:57:52.935977",
     "status": "completed"
    },
    "tags": []
   },
   "outputs": [],
   "source": [
    "# This Python 3 environment comes with many helpful analytics libraries installed\n",
    "# It is defined by the kaggle/python Docker image: https://github.com/kaggle/docker-python\n",
    "# For example, here's several helpful packages to load\n",
    "\n",
    "import numpy as np # linear algebra\n",
    "import pandas as pd # data processing, CSV file I/O (e.g. pd.read_csv)\n",
    "from sklearn.linear_model import LinearRegression\n",
    "import sklearn as sk\n",
    "import matplotlib.pyplot as plt\n",
    "from math import ceil\n",
    "\n",
    "# Input data files are available in the read-only \"../input/\" directory\n",
    "# For example, running this (by clicking run or pressing Shift+Enter) will list all files under the input directory\n",
    "\n",
    "import os\n",
    "for dirname, _, filenames in os.walk('/kaggle/input'):\n",
    "    for filename in filenames:\n",
    "        print(os.path.join(dirname, filename))\n",
    "\n",
    "# You can write up to 20GB to the current directory (/kaggle/working/) that gets preserved as output when you create a version using \"Save & Run All\" \n",
    "# You can also write temporary files to /kaggle/temp/, but they won't be saved outside of the current session"
   ]
  },
  {
   "cell_type": "markdown",
   "id": "d9ca5143",
   "metadata": {
    "papermill": {
     "duration": 0.00436,
     "end_time": "2025-03-03T14:57:56.176461",
     "exception": false,
     "start_time": "2025-03-03T14:57:56.172101",
     "status": "completed"
    },
    "tags": []
   },
   "source": [
    "#### *This notebook is a demo of how to build the linear regression model from the scratch*"
   ]
  },
  {
   "cell_type": "markdown",
   "id": "f43b3bcc",
   "metadata": {
    "papermill": {
     "duration": 0.004212,
     "end_time": "2025-03-03T14:57:56.185262",
     "exception": false,
     "start_time": "2025-03-03T14:57:56.181050",
     "status": "completed"
    },
    "tags": []
   },
   "source": [
    "## Linear Regression History\n",
    "\n",
    "It is known to man for now more than 200 years. And even in todays world it, used as base model etc..."
   ]
  },
  {
   "cell_type": "markdown",
   "id": "4b832fd0",
   "metadata": {
    "papermill": {
     "duration": 0.004275,
     "end_time": "2025-03-03T14:57:56.193953",
     "exception": false,
     "start_time": "2025-03-03T14:57:56.189678",
     "status": "completed"
    },
    "tags": []
   },
   "source": [
    "---"
   ]
  },
  {
   "cell_type": "markdown",
   "id": "e87965b9",
   "metadata": {
    "papermill": {
     "duration": 0.004286,
     "end_time": "2025-03-03T14:57:56.202767",
     "exception": false,
     "start_time": "2025-03-03T14:57:56.198481",
     "status": "completed"
    },
    "tags": []
   },
   "source": [
    "## Limitations of this notebook ⚠️\n",
    "\n",
    "* This is my understanding of the how linear regression work.\n",
    "* Sklearn still preform best than this regression.\n",
    "* No, optimization and handling is done in regards to enchance it.\n",
    "* No, proper explanation is provided(while,I have link some extra material where one can learn from it)\n",
    "* For smaller models both performs the same but as for the larger one due to optimization sklearn outperform this model"
   ]
  },
  {
   "cell_type": "markdown",
   "id": "c2fef8bf",
   "metadata": {
    "papermill": {
     "duration": 0.004381,
     "end_time": "2025-03-03T14:57:56.212883",
     "exception": false,
     "start_time": "2025-03-03T14:57:56.208502",
     "status": "completed"
    },
    "tags": []
   },
   "source": [
    "---"
   ]
  },
  {
   "cell_type": "markdown",
   "id": "d7fbe326",
   "metadata": {
    "papermill": {
     "duration": 0.004649,
     "end_time": "2025-03-03T14:57:56.222122",
     "exception": false,
     "start_time": "2025-03-03T14:57:56.217473",
     "status": "completed"
    },
    "tags": []
   },
   "source": [
    "## Implemetation of Linear Regression (Multiple Linear Regression)"
   ]
  },
  {
   "cell_type": "code",
   "execution_count": 2,
   "id": "2c4a4973",
   "metadata": {
    "execution": {
     "iopub.execute_input": "2025-03-03T14:57:56.232622Z",
     "iopub.status.busy": "2025-03-03T14:57:56.232191Z",
     "iopub.status.idle": "2025-03-03T14:57:56.250761Z",
     "shell.execute_reply": "2025-03-03T14:57:56.249665Z"
    },
    "papermill": {
     "duration": 0.025767,
     "end_time": "2025-03-03T14:57:56.252379",
     "exception": false,
     "start_time": "2025-03-03T14:57:56.226612",
     "status": "completed"
    },
    "tags": []
   },
   "outputs": [],
   "source": [
    "# abstract class concept can be used to build these as it will be more clear and neat to be read\n",
    "\n",
    "\"\"\"\n",
    "    Solved using Normal Equation \n",
    "\"\"\"\n",
    "\n",
    "class MLinearRegression:\n",
    "    def __init__(self, validate=False):\n",
    "        self.validated = validate\n",
    "        self.theta = None\n",
    "        self.intercept = None\n",
    "        self.feature = None\n",
    "\n",
    "    def validate(self, x, y):\n",
    "        \"\"\"\n",
    "            validate the dimension of x and y \n",
    "        \"\"\"\n",
    "        if(x.shape[0] == y.shape[0]):\n",
    "            self.validated = True\n",
    "            self.feature = x.shape[1]\n",
    "            return \"U can now fit the model\"\n",
    "        else:\n",
    "            raise Exception(\"Dim should be same\")\n",
    "\n",
    "    def fit(self, x, y):\n",
    "\n",
    "        \"\"\"\n",
    "            In simple term used to find solve for the equation \n",
    "                theta = (X.T @ X)^-1 @ X.T @ y ---> give all the beta's for the data\n",
    "\n",
    "                where @ is dot product\n",
    "        \"\"\"\n",
    "        if(not self.validated):\n",
    "            raise Exception(\"Validate the model first\")\n",
    "        \n",
    "        print(\"Fitting model\")\n",
    "\n",
    "        \"\"\"\n",
    "            x_b used in this one is to add the coefficent B in the data\n",
    "\n",
    "            like if the data is [1, 2]\n",
    "            so we want to add the b in it \n",
    "\n",
    "            [1, 1, 2]\n",
    "             ^  -----\n",
    "             |    ^\n",
    "             |    |\n",
    "             b    prev array\n",
    "        \"\"\"\n",
    "        x_b = np.c_[np.ones(x.shape[0]), x]\n",
    "\n",
    "        self.theta = np.linalg.inv(x_b.T @ x_b) @ x_b.T @ y\n",
    "\n",
    "        self.intercept = self.theta[0]\n",
    "        \n",
    "        print(\"Models ready to predict\")\n",
    "       \n",
    "    def predict(self, x):\n",
    "        \"\"\"\n",
    "            Calculate the y based of the theta's we get using\n",
    "                y_pred = x @ theta\n",
    "        \"\"\"\n",
    "        if(x.shape[1] != self.feature):\n",
    "            raise Exception(\"Dim is incosistent\")\n",
    "\n",
    "\n",
    "        x_b = np.c_[np.ones(x.shape[0]), x]\n",
    "\n",
    "        pred = x_b @ self.theta\n",
    "\n",
    "        return pred\n",
    "\n",
    "    def validate_fit(self, x, y):\n",
    "        \"\"\"\n",
    "            run both fit and validate\n",
    "        \"\"\"\n",
    "        self.validate(x, y)\n",
    "        self.fit(x, y)\n",
    "\n",
    "class GradientDesentLinearRegression:\n",
    "    def __init__(self, validate=False, method=\"full\", iteration=1000, lr=0.1, t0=5, t1=50, batch_size=64, epo=50):\n",
    "        self.validated = validate\n",
    "        self.theta = None\n",
    "        self.intercept = None\n",
    "        self.feature = None\n",
    "        self.method = method\n",
    "        self.iteration = iteration\n",
    "        self.lr = lr\n",
    "        self.rows = None\n",
    "        self.t0 = t0\n",
    "        self.t1 = t1\n",
    "        self.batch_size = batch_size\n",
    "        self.epo = 50\n",
    "\n",
    "    def validate(self, x, y):\n",
    "        \"\"\"\n",
    "            validate the dimension of x and y \n",
    "        \"\"\"\n",
    "        if(x.shape[0] == y.shape[0]):\n",
    "            self.validated = True\n",
    "            self.feature = x.shape[1]\n",
    "            self.rows = x.shape[0]\n",
    "            return \"U can now fit the model\"\n",
    "        else:\n",
    "            raise Exception(\"Dim should be same\")\n",
    "\n",
    "    def fit(self, x, y):\n",
    "\n",
    "        \"\"\"\n",
    "            In simple term used to find solve for the equation \n",
    "                theta = (X.T @ X)^-1 @ X.T @ y ---> give all the beta's for the data\n",
    "\n",
    "                where @ is dot product\n",
    "        \"\"\"\n",
    "        if(not self.validated):\n",
    "            raise Exception(\"Validate the model first\")\n",
    "        \n",
    "        print(\"Fitting model\")\n",
    "\n",
    "        x_b = np.c_[np.ones(x.shape[0]), x]\n",
    "\n",
    "        \"\"\"\n",
    "            Gradient Descent - Full Batch\n",
    "        \"\"\"\n",
    "\n",
    "        if(self.method==\"full\"):\n",
    "            self.full_batch(x_b, y)\n",
    "            print(\"Theta is constructed using the full batch\")\n",
    "        elif(self.method==\"stochastic\"):\n",
    "            self.stochastic(x_b, y)\n",
    "            print(\"Theta is constructed using the stochastic method\")\n",
    "        else:\n",
    "            self.mini_batch(x_b, y)\n",
    "            print(\"Theta is constructed using the mini-batch method\")\n",
    "\n",
    "    def predict(self, x):\n",
    "        \"\"\"\n",
    "            Calculate the y based of the theta's we get using\n",
    "                y_pred = x @ theta\n",
    "        \"\"\"\n",
    "        if(x.shape[1] != self.feature):\n",
    "            raise Exception(\"Dim is incosistent\")\n",
    "\n",
    "\n",
    "        x_b = np.c_[np.ones(x.shape[0]), x]\n",
    "\n",
    "        pred = x_b @ self.theta\n",
    "\n",
    "        return pred\n",
    "\n",
    "    def validate_fit(self, x, y):\n",
    "        \"\"\"\n",
    "            run both fit and validate\n",
    "        \"\"\"\n",
    "        self.validate(x, y)\n",
    "        self.fit(x, y)\n",
    "\n",
    "    def full_batch(self, x_b, y):\n",
    "\n",
    "        theta = np.random.rand(self.feature + 1, 1)\n",
    "\n",
    "        k = x_b @ theta\n",
    "        for i in range(self.iteration):\n",
    "            gradient = (2/len(x_b))*(x_b.T @ ((x_b @ theta) - y))\n",
    "            theta = theta - self.lr * gradient\n",
    "\n",
    "        self.theta = theta\n",
    "\n",
    "    def stochastic(self, x, y, epo=50):\n",
    "\n",
    "        def lr(t):\n",
    "            return self.t0/(t + self.t1)\n",
    "\n",
    "        \n",
    "        theta = np.random.rand(self.feature + 1, 1)\n",
    "\n",
    "        for i in range(epo):\n",
    "            for j in range(len(x)):\n",
    "                rindex = np.random.randint(len(x))\n",
    "                x_ = x[rindex:rindex+1]\n",
    "                y_ = y[rindex:rindex+1]\n",
    "                gradient = 2 * x_.T @ (x_ @ theta - y_)\n",
    "                learning = lr(i * len(x) + j)\n",
    "                theta = theta - learning * gradient\n",
    "\n",
    "        self.theta = theta\n",
    "\n",
    "    def mini_batch(self, x, y):\n",
    "\n",
    "        epo = self.epo\n",
    "        batch_size = self.batch_size\n",
    "        self.t0 = 200\n",
    "        self.t1 = 1000\n",
    "        def lr(t):\n",
    "            return self.t0/(t + self.t1)\n",
    "\n",
    "\n",
    "        \n",
    "        batch_per_epo = ceil(len(x) / batch_size)\n",
    "\n",
    "        theta = np.random.rand(self.feature + 1, 1)\n",
    "\n",
    "        for i in range(epo):\n",
    "            # shuffling is done so that we won't get stuck in the local minima\n",
    "            sindex = np.random.permutation(len(x))\n",
    "            sx_ = x[sindex]\n",
    "            sy_ = y[sindex]\n",
    "            \n",
    "            for j in range(0, batch_per_epo):\n",
    "                rindex = j * batch_size\n",
    "                x_ = sx_[rindex:rindex+batch_size]\n",
    "                y_ = sy_[rindex:rindex+batch_size]\n",
    "                gradient = (2 / batch_size) * x_.T @ (x_ @ theta - y_)\n",
    "                learning = lr(i * batch_per_epo + j)\n",
    "                theta = theta - learning * gradient\n",
    "\n",
    "        self.theta = theta\n",
    "                \n",
    "    \n",
    "\n",
    "\"\"\"\n",
    "Root Mean Squared Error\n",
    "\"\"\"\n",
    "def rmse(y_test, y_pred):\n",
    "    return np.sqrt(sum((y_test - y_pred)**2)/y_test.shape[0])"
   ]
  },
  {
   "cell_type": "markdown",
   "id": "06f3f83f",
   "metadata": {
    "papermill": {
     "duration": 0.004417,
     "end_time": "2025-03-03T14:57:56.262213",
     "exception": false,
     "start_time": "2025-03-03T14:57:56.257796",
     "status": "completed"
    },
    "tags": []
   },
   "source": [
    "---"
   ]
  },
  {
   "cell_type": "markdown",
   "id": "d9b99b18",
   "metadata": {
    "papermill": {
     "duration": 0.004222,
     "end_time": "2025-03-03T14:57:56.270936",
     "exception": false,
     "start_time": "2025-03-03T14:57:56.266714",
     "status": "completed"
    },
    "tags": []
   },
   "source": [
    "# Sample Formula Run"
   ]
  },
  {
   "cell_type": "markdown",
   "id": "2156e875",
   "metadata": {
    "papermill": {
     "duration": 0.004239,
     "end_time": "2025-03-03T14:57:56.279832",
     "exception": false,
     "start_time": "2025-03-03T14:57:56.275593",
     "status": "completed"
    },
    "tags": []
   },
   "source": [
    "## Create a Random Data"
   ]
  },
  {
   "cell_type": "code",
   "execution_count": 3,
   "id": "c4ee4d23",
   "metadata": {
    "execution": {
     "iopub.execute_input": "2025-03-03T14:57:56.289990Z",
     "iopub.status.busy": "2025-03-03T14:57:56.289707Z",
     "iopub.status.idle": "2025-03-03T14:57:56.293931Z",
     "shell.execute_reply": "2025-03-03T14:57:56.293113Z"
    },
    "papermill": {
     "duration": 0.011263,
     "end_time": "2025-03-03T14:57:56.295657",
     "exception": false,
     "start_time": "2025-03-03T14:57:56.284394",
     "status": "completed"
    },
    "tags": []
   },
   "outputs": [],
   "source": [
    "np.random.seed(69)\n",
    "rows = 10000\n",
    "cols = 1 # more that one cols has >3d graphs\n",
    "X = 2 * np.random.rand(rows, cols)\n",
    "y = 2 + 5 * X + np.random.randn(rows, 1) # 2 + 5x and some randomnoise_std * np.random.randn(rows, 1)  # Noise with shape (10000, 1)\n"
   ]
  },
  {
   "cell_type": "code",
   "execution_count": 4,
   "id": "10bc2ecb",
   "metadata": {
    "execution": {
     "iopub.execute_input": "2025-03-03T14:57:56.307563Z",
     "iopub.status.busy": "2025-03-03T14:57:56.307294Z",
     "iopub.status.idle": "2025-03-03T14:57:56.311253Z",
     "shell.execute_reply": "2025-03-03T14:57:56.310264Z"
    },
    "papermill": {
     "duration": 0.01135,
     "end_time": "2025-03-03T14:57:56.312786",
     "exception": false,
     "start_time": "2025-03-03T14:57:56.301436",
     "status": "completed"
    },
    "tags": []
   },
   "outputs": [],
   "source": [
    "train_x = X[:7000]\n",
    "test_x = X[7000:]\n",
    "\n",
    "train_y = y[:7000]\n",
    "test_y = y[7000:]"
   ]
  },
  {
   "cell_type": "code",
   "execution_count": 5,
   "id": "45d8aa81",
   "metadata": {
    "execution": {
     "iopub.execute_input": "2025-03-03T14:57:56.323695Z",
     "iopub.status.busy": "2025-03-03T14:57:56.323378Z",
     "iopub.status.idle": "2025-03-03T14:57:56.329826Z",
     "shell.execute_reply": "2025-03-03T14:57:56.328841Z"
    },
    "papermill": {
     "duration": 0.01365,
     "end_time": "2025-03-03T14:57:56.331611",
     "exception": false,
     "start_time": "2025-03-03T14:57:56.317961",
     "status": "completed"
    },
    "tags": []
   },
   "outputs": [
    {
     "data": {
      "text/plain": [
       "(7000, 1)"
      ]
     },
     "execution_count": 5,
     "metadata": {},
     "output_type": "execute_result"
    }
   ],
   "source": [
    "train_x.shape"
   ]
  },
  {
   "cell_type": "code",
   "execution_count": 6,
   "id": "ae9af1ec",
   "metadata": {
    "execution": {
     "iopub.execute_input": "2025-03-03T14:57:56.343417Z",
     "iopub.status.busy": "2025-03-03T14:57:56.343071Z",
     "iopub.status.idle": "2025-03-03T14:57:56.348557Z",
     "shell.execute_reply": "2025-03-03T14:57:56.347605Z"
    },
    "papermill": {
     "duration": 0.012496,
     "end_time": "2025-03-03T14:57:56.349719",
     "exception": false,
     "start_time": "2025-03-03T14:57:56.337223",
     "status": "completed"
    },
    "tags": []
   },
   "outputs": [
    {
     "data": {
      "text/plain": [
       "(7000, 1)"
      ]
     },
     "execution_count": 6,
     "metadata": {},
     "output_type": "execute_result"
    }
   ],
   "source": [
    "train_y.shape"
   ]
  },
  {
   "cell_type": "code",
   "execution_count": 7,
   "id": "ebc5afe3",
   "metadata": {
    "execution": {
     "iopub.execute_input": "2025-03-03T14:57:56.360919Z",
     "iopub.status.busy": "2025-03-03T14:57:56.360609Z",
     "iopub.status.idle": "2025-03-03T14:57:56.633675Z",
     "shell.execute_reply": "2025-03-03T14:57:56.632647Z"
    },
    "papermill": {
     "duration": 0.280165,
     "end_time": "2025-03-03T14:57:56.635146",
     "exception": false,
     "start_time": "2025-03-03T14:57:56.354981",
     "status": "completed"
    },
    "tags": []
   },
   "outputs": [
    {
     "data": {
      "text/plain": [
       "[<matplotlib.lines.Line2D at 0x7fe4741e5e70>]"
      ]
     },
     "execution_count": 7,
     "metadata": {},
     "output_type": "execute_result"
    },
    {
     "data": {
      "image/png": "[encoded data removed]",
      "text/plain": [
       "<Figure size 600x400 with 1 Axes>"
      ]
     },
     "metadata": {},
     "output_type": "display_data"
    }
   ],
   "source": [
    "plt.figure(figsize=(6, 4))\n",
    "plt.plot(X, y, \"r.\")"
   ]
  },
  {
   "cell_type": "markdown",
   "id": "79d0f837",
   "metadata": {
    "papermill": {
     "duration": 0.005583,
     "end_time": "2025-03-03T14:57:56.647329",
     "exception": false,
     "start_time": "2025-03-03T14:57:56.641746",
     "status": "completed"
    },
    "tags": []
   },
   "source": [
    "## Make the room for the b -- coefficent"
   ]
  },
  {
   "cell_type": "code",
   "execution_count": 8,
   "id": "12ff7b1d",
   "metadata": {
    "execution": {
     "iopub.execute_input": "2025-03-03T14:57:56.660071Z",
     "iopub.status.busy": "2025-03-03T14:57:56.659717Z",
     "iopub.status.idle": "2025-03-03T14:57:56.665892Z",
     "shell.execute_reply": "2025-03-03T14:57:56.664555Z"
    },
    "papermill": {
     "duration": 0.014651,
     "end_time": "2025-03-03T14:57:56.667774",
     "exception": false,
     "start_time": "2025-03-03T14:57:56.653123",
     "status": "completed"
    },
    "tags": []
   },
   "outputs": [
    {
     "data": {
      "text/plain": [
       "array([[1.        , 0.59249832],\n",
       "       [1.        , 1.61813543],\n",
       "       [1.        , 0.70050505],\n",
       "       ...,\n",
       "       [1.        , 0.79088034],\n",
       "       [1.        , 0.57139035],\n",
       "       [1.        , 1.14574562]])"
      ]
     },
     "execution_count": 8,
     "metadata": {},
     "output_type": "execute_result"
    }
   ],
   "source": [
    "X_dum = sk.preprocessing.add_dummy_feature(X)\n",
    "X_dum"
   ]
  },
  {
   "cell_type": "markdown",
   "id": "b7217d49",
   "metadata": {
    "papermill": {
     "duration": 0.005596,
     "end_time": "2025-03-03T14:57:56.679538",
     "exception": false,
     "start_time": "2025-03-03T14:57:56.673942",
     "status": "completed"
    },
    "tags": []
   },
   "source": [
    "## Calculate theta"
   ]
  },
  {
   "cell_type": "code",
   "execution_count": 9,
   "id": "a09a288b",
   "metadata": {
    "execution": {
     "iopub.execute_input": "2025-03-03T14:57:56.692185Z",
     "iopub.status.busy": "2025-03-03T14:57:56.691894Z",
     "iopub.status.idle": "2025-03-03T14:57:56.706461Z",
     "shell.execute_reply": "2025-03-03T14:57:56.705507Z"
    },
    "papermill": {
     "duration": 0.022546,
     "end_time": "2025-03-03T14:57:56.707952",
     "exception": false,
     "start_time": "2025-03-03T14:57:56.685406",
     "status": "completed"
    },
    "tags": []
   },
   "outputs": [
    {
     "data": {
      "text/plain": [
       "array([[1.99961859],\n",
       "       [4.98421526]])"
      ]
     },
     "execution_count": 9,
     "metadata": {},
     "output_type": "execute_result"
    }
   ],
   "source": [
    "theta = np.linalg.inv(X_dum.T @ X_dum) @ X_dum.T @ y\n",
    "theta"
   ]
  },
  {
   "cell_type": "markdown",
   "id": "0679a172",
   "metadata": {
    "papermill": {
     "duration": 0.00582,
     "end_time": "2025-03-03T14:57:56.720352",
     "exception": false,
     "start_time": "2025-03-03T14:57:56.714532",
     "status": "completed"
    },
    "tags": []
   },
   "source": [
    "## Let's Predict"
   ]
  },
  {
   "cell_type": "code",
   "execution_count": 10,
   "id": "e30795bf",
   "metadata": {
    "execution": {
     "iopub.execute_input": "2025-03-03T14:57:56.733986Z",
     "iopub.status.busy": "2025-03-03T14:57:56.733658Z",
     "iopub.status.idle": "2025-03-03T14:57:56.739243Z",
     "shell.execute_reply": "2025-03-03T14:57:56.738242Z"
    },
    "papermill": {
     "duration": 0.014141,
     "end_time": "2025-03-03T14:57:56.740685",
     "exception": false,
     "start_time": "2025-03-03T14:57:56.726544",
     "status": "completed"
    },
    "tags": []
   },
   "outputs": [
    {
     "data": {
      "text/plain": [
       "array([[0],\n",
       "       [2]])"
      ]
     },
     "execution_count": 10,
     "metadata": {},
     "output_type": "execute_result"
    }
   ],
   "source": [
    "X_new = np.array([[0], [2]])\n",
    "X_new_b = sk.preprocessing.add_dummy_feature(X_new)\n",
    "X_new"
   ]
  },
  {
   "cell_type": "code",
   "execution_count": 11,
   "id": "e086ba68",
   "metadata": {
    "execution": {
     "iopub.execute_input": "2025-03-03T14:57:56.754349Z",
     "iopub.status.busy": "2025-03-03T14:57:56.753981Z",
     "iopub.status.idle": "2025-03-03T14:57:56.759276Z",
     "shell.execute_reply": "2025-03-03T14:57:56.758171Z"
    },
    "papermill": {
     "duration": 0.014058,
     "end_time": "2025-03-03T14:57:56.761168",
     "exception": false,
     "start_time": "2025-03-03T14:57:56.747110",
     "status": "completed"
    },
    "tags": []
   },
   "outputs": [
    {
     "data": {
      "text/plain": [
       "array([[ 1.99961859],\n",
       "       [11.9680491 ]])"
      ]
     },
     "execution_count": 11,
     "metadata": {},
     "output_type": "execute_result"
    }
   ],
   "source": [
    "y_pred = X_new_b @ theta\n",
    "y_pred"
   ]
  },
  {
   "cell_type": "code",
   "execution_count": 12,
   "id": "f2c7bd0c",
   "metadata": {
    "execution": {
     "iopub.execute_input": "2025-03-03T14:57:56.774963Z",
     "iopub.status.busy": "2025-03-03T14:57:56.774688Z",
     "iopub.status.idle": "2025-03-03T14:57:56.952678Z",
     "shell.execute_reply": "2025-03-03T14:57:56.951530Z"
    },
    "papermill": {
     "duration": 0.186469,
     "end_time": "2025-03-03T14:57:56.954284",
     "exception": false,
     "start_time": "2025-03-03T14:57:56.767815",
     "status": "completed"
    },
    "tags": []
   },
   "outputs": [
    {
     "data": {
      "text/plain": [
       "Text(0.75, 4, 'Predicted Line')"
      ]
     },
     "execution_count": 12,
     "metadata": {},
     "output_type": "execute_result"
    },
    {
     "data": {
      "image/png": "[encoded data removed]",
      "text/plain": [
       "<Figure size 640x480 with 1 Axes>"
      ]
     },
     "metadata": {},
     "output_type": "display_data"
    }
   ],
   "source": [
    "plt.plot(X, y, 'r.')\n",
    "plt.plot(X_new, y_pred, 'b-', linewidth=3)\n",
    "\n",
    "plt.text(0.75, 4, \"Predicted Line\", color='blue')"
   ]
  },
  {
   "cell_type": "markdown",
   "id": "fb807147",
   "metadata": {
    "papermill": {
     "duration": 0.006615,
     "end_time": "2025-03-03T14:57:56.968215",
     "exception": false,
     "start_time": "2025-03-03T14:57:56.961600",
     "status": "completed"
    },
    "tags": []
   },
   "source": [
    "---"
   ]
  },
  {
   "cell_type": "markdown",
   "id": "7b7f825d",
   "metadata": {
    "papermill": {
     "duration": 0.006429,
     "end_time": "2025-03-03T14:57:56.981427",
     "exception": false,
     "start_time": "2025-03-03T14:57:56.974998",
     "status": "completed"
    },
    "tags": []
   },
   "source": [
    "# Compare Result with sklearn"
   ]
  },
  {
   "cell_type": "code",
   "execution_count": 13,
   "id": "175d55a5",
   "metadata": {
    "execution": {
     "iopub.execute_input": "2025-03-03T14:57:56.996073Z",
     "iopub.status.busy": "2025-03-03T14:57:56.995741Z",
     "iopub.status.idle": "2025-03-03T14:57:57.036692Z",
     "shell.execute_reply": "2025-03-03T14:57:57.035666Z"
    },
    "papermill": {
     "duration": 0.050008,
     "end_time": "2025-03-03T14:57:57.038133",
     "exception": false,
     "start_time": "2025-03-03T14:57:56.988125",
     "status": "completed"
    },
    "tags": []
   },
   "outputs": [
    {
     "name": "stdout",
     "output_type": "stream",
     "text": [
      "[2.01491095] [[4.97924095]]\n"
     ]
    }
   ],
   "source": [
    "# sklearn \n",
    "\n",
    "lr = LinearRegression()\n",
    "\n",
    "lr.fit(test_x, test_y)\n",
    "\n",
    "print(lr.intercept_, lr.coef_)\n",
    "\n",
    "pred_lr = lr.predict(test_x)"
   ]
  },
  {
   "cell_type": "code",
   "execution_count": 14,
   "id": "905d76d1",
   "metadata": {
    "execution": {
     "iopub.execute_input": "2025-03-03T14:57:57.054239Z",
     "iopub.status.busy": "2025-03-03T14:57:57.053885Z",
     "iopub.status.idle": "2025-03-03T14:57:57.059574Z",
     "shell.execute_reply": "2025-03-03T14:57:57.058871Z"
    },
    "papermill": {
     "duration": 0.015667,
     "end_time": "2025-03-03T14:57:57.060848",
     "exception": false,
     "start_time": "2025-03-03T14:57:57.045181",
     "status": "completed"
    },
    "tags": []
   },
   "outputs": [
    {
     "name": "stdout",
     "output_type": "stream",
     "text": [
      "SkLearn Linear Regression: 0.97\n"
     ]
    }
   ],
   "source": [
    "print(f\"SkLearn Linear Regression: {rmse(test_y, pred_lr)[0].round(2)}\")"
   ]
  },
  {
   "cell_type": "code",
   "execution_count": 15,
   "id": "93700619",
   "metadata": {
    "execution": {
     "iopub.execute_input": "2025-03-03T14:57:57.076494Z",
     "iopub.status.busy": "2025-03-03T14:57:57.076049Z",
     "iopub.status.idle": "2025-03-03T14:57:57.082516Z",
     "shell.execute_reply": "2025-03-03T14:57:57.081491Z"
    },
    "papermill": {
     "duration": 0.016098,
     "end_time": "2025-03-03T14:57:57.084284",
     "exception": false,
     "start_time": "2025-03-03T14:57:57.068186",
     "status": "completed"
    },
    "tags": []
   },
   "outputs": [
    {
     "name": "stdout",
     "output_type": "stream",
     "text": [
      "Fitting model\n",
      "Models ready to predict\n",
      "[[1.99290282]\n",
      " [4.98648636]]\n"
     ]
    }
   ],
   "source": [
    "# Multiple Linear Regeression using the normal Equation\n",
    "\n",
    "mlr = MLinearRegression()\n",
    "\n",
    "mlr.validate(train_x, train_y)\n",
    "\n",
    "mlr.fit(train_x, train_y)\n",
    "\n",
    "print(mlr.theta)\n",
    "\n",
    "pred = mlr.predict(test_x)"
   ]
  },
  {
   "cell_type": "code",
   "execution_count": 16,
   "id": "576b8191",
   "metadata": {
    "execution": {
     "iopub.execute_input": "2025-03-03T14:57:57.099800Z",
     "iopub.status.busy": "2025-03-03T14:57:57.099469Z",
     "iopub.status.idle": "2025-03-03T14:57:57.105879Z",
     "shell.execute_reply": "2025-03-03T14:57:57.104880Z"
    },
    "papermill": {
     "duration": 0.015242,
     "end_time": "2025-03-03T14:57:57.107237",
     "exception": false,
     "start_time": "2025-03-03T14:57:57.091995",
     "status": "completed"
    },
    "tags": []
   },
   "outputs": [
    {
     "name": "stdout",
     "output_type": "stream",
     "text": [
      "Normal Equation Linear Regression: 0.97\n"
     ]
    }
   ],
   "source": [
    "print(f\"Normal Equation Linear Regression: {rmse(test_y, pred)[0].round(2)}\")"
   ]
  },
  {
   "cell_type": "code",
   "execution_count": 17,
   "id": "dd1e83f7",
   "metadata": {
    "execution": {
     "iopub.execute_input": "2025-03-03T14:57:57.122135Z",
     "iopub.status.busy": "2025-03-03T14:57:57.121836Z",
     "iopub.status.idle": "2025-03-03T14:57:57.154178Z",
     "shell.execute_reply": "2025-03-03T14:57:57.153103Z"
    },
    "papermill": {
     "duration": 0.041507,
     "end_time": "2025-03-03T14:57:57.155767",
     "exception": false,
     "start_time": "2025-03-03T14:57:57.114260",
     "status": "completed"
    },
    "tags": []
   },
   "outputs": [
    {
     "name": "stdout",
     "output_type": "stream",
     "text": [
      "Fitting model\n",
      "Theta is constructed using the full batch\n"
     ]
    },
    {
     "data": {
      "text/plain": [
       "array([[1.99290282],\n",
       "       [4.98648636]])"
      ]
     },
     "execution_count": 17,
     "metadata": {},
     "output_type": "execute_result"
    }
   ],
   "source": [
    "# Full Batch gradient \n",
    "\n",
    "gd_full = GradientDesentLinearRegression()\n",
    "\n",
    "gd_full.validate(train_x, train_y)\n",
    "\n",
    "gd_full.fit(train_x, train_y)\n",
    "\n",
    "pred_full = gd_full.predict(test_x)\n",
    "\n",
    "gd_full.theta"
   ]
  },
  {
   "cell_type": "code",
   "execution_count": 18,
   "id": "898f0ea3",
   "metadata": {
    "execution": {
     "iopub.execute_input": "2025-03-03T14:57:57.171126Z",
     "iopub.status.busy": "2025-03-03T14:57:57.170745Z",
     "iopub.status.idle": "2025-03-03T14:57:57.177829Z",
     "shell.execute_reply": "2025-03-03T14:57:57.176435Z"
    },
    "papermill": {
     "duration": 0.016194,
     "end_time": "2025-03-03T14:57:57.179448",
     "exception": false,
     "start_time": "2025-03-03T14:57:57.163254",
     "status": "completed"
    },
    "tags": []
   },
   "outputs": [
    {
     "name": "stdout",
     "output_type": "stream",
     "text": [
      "Gradient Descent Linear Regression(Full Batch): 0.97\n"
     ]
    }
   ],
   "source": [
    "print(f\"Gradient Descent Linear Regression(Full Batch): {rmse(test_y, pred_full)[0].round(2)}\")"
   ]
  },
  {
   "cell_type": "code",
   "execution_count": 19,
   "id": "21031754",
   "metadata": {
    "execution": {
     "iopub.execute_input": "2025-03-03T14:57:57.194858Z",
     "iopub.status.busy": "2025-03-03T14:57:57.194547Z",
     "iopub.status.idle": "2025-03-03T14:58:00.564901Z",
     "shell.execute_reply": "2025-03-03T14:58:00.564053Z"
    },
    "papermill": {
     "duration": 3.379854,
     "end_time": "2025-03-03T14:58:00.566533",
     "exception": false,
     "start_time": "2025-03-03T14:57:57.186679",
     "status": "completed"
    },
    "tags": []
   },
   "outputs": [
    {
     "name": "stdout",
     "output_type": "stream",
     "text": [
      "Fitting model\n",
      "Theta is constructed using the stochastic method\n"
     ]
    },
    {
     "data": {
      "text/plain": [
       "array([[1.99376648],\n",
       "       [4.98845935]])"
      ]
     },
     "execution_count": 19,
     "metadata": {},
     "output_type": "execute_result"
    }
   ],
   "source": [
    "# stochastic gradient\n",
    "\n",
    "gd_sg = GradientDesentLinearRegression(method=\"stochastic\")\n",
    "\n",
    "gd_sg.validate(train_x, train_y)\n",
    "\n",
    "gd_sg.fit(train_x, train_y)\n",
    "\n",
    "pred_sg = gd_sg.predict(test_x)\n",
    "\n",
    "gd_sg.theta"
   ]
  },
  {
   "cell_type": "code",
   "execution_count": 20,
   "id": "ed78cbfc",
   "metadata": {
    "execution": {
     "iopub.execute_input": "2025-03-03T14:58:00.583487Z",
     "iopub.status.busy": "2025-03-03T14:58:00.583185Z",
     "iopub.status.idle": "2025-03-03T14:58:00.589730Z",
     "shell.execute_reply": "2025-03-03T14:58:00.588539Z"
    },
    "papermill": {
     "duration": 0.016514,
     "end_time": "2025-03-03T14:58:00.591383",
     "exception": false,
     "start_time": "2025-03-03T14:58:00.574869",
     "status": "completed"
    },
    "tags": []
   },
   "outputs": [
    {
     "name": "stdout",
     "output_type": "stream",
     "text": [
      "Stochastic Gradient Descent Linear Regression: 0.97\n"
     ]
    }
   ],
   "source": [
    "print(f\"Stochastic Gradient Descent Linear Regression: {rmse(test_y, pred_sg)[0].round(2)}\")"
   ]
  },
  {
   "cell_type": "code",
   "execution_count": 21,
   "id": "f4786c4f",
   "metadata": {
    "execution": {
     "iopub.execute_input": "2025-03-03T14:58:00.606998Z",
     "iopub.status.busy": "2025-03-03T14:58:00.606706Z",
     "iopub.status.idle": "2025-03-03T14:58:00.663482Z",
     "shell.execute_reply": "2025-03-03T14:58:00.662642Z"
    },
    "papermill": {
     "duration": 0.066102,
     "end_time": "2025-03-03T14:58:00.664988",
     "exception": false,
     "start_time": "2025-03-03T14:58:00.598886",
     "status": "completed"
    },
    "tags": []
   },
   "outputs": [
    {
     "name": "stdout",
     "output_type": "stream",
     "text": [
      "Fitting model\n",
      "Theta is constructed using the mini-batch method\n"
     ]
    },
    {
     "data": {
      "text/plain": [
       "array([[2.0140141 ],\n",
       "       [5.01103211]])"
      ]
     },
     "execution_count": 21,
     "metadata": {},
     "output_type": "execute_result"
    }
   ],
   "source": [
    "# mini-batch learning\n",
    "\n",
    "mini = GradientDesentLinearRegression(method=\"mini\")\n",
    "\n",
    "mini.validate(train_x, train_y)\n",
    "\n",
    "mini.fit(train_x, train_y)\n",
    "\n",
    "pred_mini = mini.predict(test_x)\n",
    "\n",
    "mini.theta"
   ]
  },
  {
   "cell_type": "code",
   "execution_count": 22,
   "id": "870b24aa",
   "metadata": {
    "execution": {
     "iopub.execute_input": "2025-03-03T14:58:00.680959Z",
     "iopub.status.busy": "2025-03-03T14:58:00.680673Z",
     "iopub.status.idle": "2025-03-03T14:58:00.688699Z",
     "shell.execute_reply": "2025-03-03T14:58:00.687407Z"
    },
    "papermill": {
     "duration": 0.017899,
     "end_time": "2025-03-03T14:58:00.690413",
     "exception": false,
     "start_time": "2025-03-03T14:58:00.672514",
     "status": "completed"
    },
    "tags": []
   },
   "outputs": [
    {
     "name": "stdout",
     "output_type": "stream",
     "text": [
      "Mini Batch Gradient Descent Linear Regression: 0.97\n"
     ]
    }
   ],
   "source": [
    "print(f\"Mini Batch Gradient Descent Linear Regression: {rmse(test_y, pred_mini)[0].round(2)}\")"
   ]
  },
  {
   "cell_type": "markdown",
   "id": "732a5008",
   "metadata": {
    "papermill": {
     "duration": 0.006865,
     "end_time": "2025-03-03T14:58:00.704924",
     "exception": false,
     "start_time": "2025-03-03T14:58:00.698059",
     "status": "completed"
    },
    "tags": []
   },
   "source": [
    "# __Resources__"
   ]
  },
  {
   "cell_type": "markdown",
   "id": "a3b97c24",
   "metadata": {
    "papermill": {
     "duration": 0.00709,
     "end_time": "2025-03-03T14:58:00.719728",
     "exception": false,
     "start_time": "2025-03-03T14:58:00.712638",
     "status": "completed"
    },
    "tags": []
   },
   "source": [
    "---\n",
    "__Linear Regression__\n",
    "\n",
    "1. [Wikipedia](https://en.wikipedia.org/wiki/Linear_regression)\n",
    "2. [Some guy on medium](https://www.researchgate.net/publication/327446287_Multiple_Linear_Regression_Model_for_Estimating_the_Price_of_a_Housing_Unit)\n",
    "\n",
    "__Normal Equation__\n",
    "\n",
    "3. [Paper](https://jastt.org/index.php/jasttpath/article/view/57/20)\n",
    "4. [Paper](https://arxiv.org/pdf/2302.06464)\n",
    "5. [ML-Wiki - normal equation](http://mlwiki.org/index.php/Normal_Equation)\n",
    "\n",
    "__Bactch Gradient__\n",
    "\n",
    "6. [Udacity](https://www.udacity.com/blog/2025/02/gradient-descent-optimization-a-simple-guide-for-beginners.html)\n",
    "7. [ML-Wiki](http://mlwiki.org/index.php/Gradient_Descent)\n",
    "\n",
    "__SGD__\n",
    "\n",
    "8. [Medium](https://medium.com/@nikhilparmar9/simple-sgd-implementation-in-python-for-linear-regression-on-boston-housing-data-f63fcaaecfb1)\n",
    "9. [Machine Learning Mastery](https://machinelearningmastery.com/implement-linear-regression-stochastic-gradient-descent-scratch-python/)  <--- good implementation\n",
    "\n",
    "__GD__\n",
    "\n",
    "10. [Medium](https://medium.com/towards-data-science/batch-mini-batch-stochastic-gradient-descent-7a62ecba642a)\n",
    "\n",
    "__Mini-Batch__\n",
    "\n",
    "11. [Machine Lerning Mastery](https://machinelearningmastery.com/gentle-introduction-mini-batch-gradient-descent-configure-batch-size/)\n",
    "\n",
    "\n",
    "Will add more on the way if i find anything useful"
   ]
  },
  {
   "cell_type": "markdown",
   "id": "2790426c",
   "metadata": {
    "papermill": {
     "duration": 0.0069,
     "end_time": "2025-03-03T14:58:00.733843",
     "exception": false,
     "start_time": "2025-03-03T14:58:00.726943",
     "status": "completed"
    },
    "tags": []
   },
   "source": [
    "# __Note__"
   ]
  },
  {
   "cell_type": "markdown",
   "id": "aa249654",
   "metadata": {
    "papermill": {
     "duration": 0.00681,
     "end_time": "2025-03-03T14:58:00.747993",
     "exception": false,
     "start_time": "2025-03-03T14:58:00.741183",
     "status": "completed"
    },
    "tags": []
   },
   "source": [
    "If any one find error in this please do enlighten me on the issue. \n",
    "\n",
    "\n",
    "Open to any kind suggestions"
   ]
  }
 ],
 "metadata": {
  "kaggle": {
   "accelerator": "none",
   "dataSources": [],
   "dockerImageVersionId": 30918,
   "isGpuEnabled": false,
   "isInternetEnabled": true,
   "language": "python",
   "sourceType": "notebook"
  },
  "kernelspec": {
   "display_name": "Python 3",
   "language": "python",
   "name": "python3"
  },
  "language_info": {
   "codemirror_mode": {
    "name": "ipython",
    "version": 3
   },
   "file_extension": ".py",
   "mimetype": "text/x-python",
   "name": "python",
   "nbconvert_exporter": "python",
   "pygments_lexer": "ipython3",
   "version": "3.10.12"
  },
  "papermill": {
   "default_parameters": {},
   "duration": 11.016809,
   "end_time": "2025-03-03T14:58:01.476976",
   "environment_variables": {},
   "exception": null,
   "input_path": "__notebook__.ipynb",
   "output_path": "__notebook__.ipynb",
   "parameters": {},
   "start_time": "2025-03-03T14:57:50.460167",
   "version": "2.6.0"
  }
 },
 "nbformat": 4,
 "nbformat_minor": 5
}
